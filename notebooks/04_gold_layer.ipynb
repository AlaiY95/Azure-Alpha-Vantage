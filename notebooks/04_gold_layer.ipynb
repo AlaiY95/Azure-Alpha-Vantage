{
 "cells": [
  {
   "cell_type": "code",
   "execution_count": null,
   "metadata": {
    "vscode": {
     "languageId": "plaintext"
    }
   },
   "outputs": [],
   "source": [
    "import json\n",
    "from pyspark.sql.functions import *\n",
    "from pyspark.sql.types import *\n",
    "from pyspark.sql.window import Window"
   ]
  },
  {
   "cell_type": "code",
   "execution_count": null,
   "metadata": {
    "vscode": {
     "languageId": "plaintext"
    }
   },
   "outputs": [],
   "source": [
    "# Load configuration\n",
    "def load_config():\n",
    "    \"\"\"Load configuration from config.json\"\"\"\n",
    "    config_path = \"/dbfs/FileStore/configs/config.json\"\n",
    "    with open(config_path, 'r') as f:\n",
    "        return json.load(f)\n",
    "\n",
    "config = load_config()\n",
    "silver_path = config[\"data_storage\"][\"silver_path\"]\n",
    "gold_daily_path = config[\"data_storage\"][\"gold_daily_path\"]\n",
    "gold_monthly_path = config[\"data_storage\"][\"gold_monthly_path\"]"
   ]
  },
  {
   "cell_type": "code",
   "execution_count": null,
   "metadata": {
    "vscode": {
     "languageId": "plaintext"
    }
   },
   "outputs": [],
   "source": [
    "def create_gold_layer():\n",
    "    \"\"\"Create gold layer tables for analytics\"\"\"\n",
    "    # Read silver layer data\n",
    "    silver_df = spark.read.format(\"delta\").load(silver_path)\n",
    "    \n",
    "    # Create daily metrics gold table\n",
    "    daily_metrics = silver_df \\\n",
    "        .groupBy(\"symbol\", \"date\") \\\n",
    "        .agg(\n",
    "            round(avg(\"open\"), 2).alias(\"avg_open\"),\n",
    "            round(avg(\"close\"), 2).alias(\"avg_close\"),\n",
    "            round(max(\"high\"), 2).alias(\"daily_high\"),\n",
    "            round(min(\"low\"), 2).alias(\"daily_low\"),\n",
    "            sum(\"volume\").alias(\"total_volume\"),\n",
    "            round(avg(\"price_change_pct\"), 2).alias(\"avg_price_change_pct\"),\n",
    "            round(avg(\"ma10\"), 2).alias(\"ma10\"),\n",
    "            round(avg(\"ma30\"), 2).alias(\"ma30\"),\n",
    "            round(avg(\"volatility_30d\"), 4).alias(\"volatility_30d\")\n",
    "        ) \\\n",
    "        .withColumn(\"created_date\", current_timestamp())\n",
    "    \n",
    "    # Create monthly summary gold table\n",
    "    monthly_summary = silver_df \\\n",
    "        .groupBy(\"symbol\", \"year\", \"month\") \\\n",
    "        .agg(\n",
    "            round(avg(\"close\"), 2).alias(\"monthly_avg_close\"),\n",
    "            round(max(\"high\"), 2).alias(\"monthly_high\"),\n",
    "            round(min(\"low\"), 2).alias(\"monthly_low\"),\n",
    "            sum(\"volume\").alias(\"monthly_volume\"),\n",
    "            round(avg(\"price_change_pct\"), 2).alias(\"monthly_avg_change_pct\"),\n",
    "            round(stddev(\"close\"), 2).alias(\"price_volatility\"),\n",
    "            round(avg(\"ma30\"), 2).alias(\"monthly_avg_ma30\"),\n",
    "            round(avg(\"volatility_30d\"), 4).alias(\"monthly_avg_volatility\")\n",
    "        ) \\\n",
    "        .withColumn(\"created_date\", current_timestamp())\n",
    "    \n",
    "    # Add month-over-month change\n",
    "    windowSpec = Window.partitionBy(\"symbol\").orderBy(\"year\", \"month\")\n",
    "    monthly_summary = monthly_summary \\\n",
    "        .withColumn(\"prev_month_close\", lag(\"monthly_avg_close\", 1).over(windowSpec)) \\\n",
    "        .withColumn(\"mom_change_pct\", \n",
    "                   round((col(\"monthly_avg_close\") - col(\"prev_month_close\")) / col(\"prev_month_close\") * 100, 2))\n",
    "    \n",
    "    # Add quarterly averages using a window function\n",
    "    quarterly_window = Window.partitionBy(\"symbol\").orderBy(\"year\", \"month\").rowsBetween(-2, 0)\n",
    "    monthly_summary = monthly_summary \\\n",
    "        .withColumn(\"quarterly_avg_close\", round(avg(\"monthly_avg_close\").over(quarterly_window), 2)) \\\n",
    "        .withColumn(\"quarterly_avg_volatility\", round(avg(\"price_volatility\").over(quarterly_window), 4))\n",
    "    \n",
    "    # Calculate renewable energy sector performance metrics\n",
    "    # This assumes all symbols in the config are renewable energy stocks\n",
    "    daily_sector_metrics = daily_metrics \\\n",
    "        .groupBy(\"date\") \\\n",
    "        .agg(\n",
    "            round(avg(\"avg_close\"), 2).alias(\"sector_avg_price\"),\n",
    "            round(avg(\"avg_price_change_pct\"), 2).alias(\"sector_avg_change_pct\"),\n",
    "            round(avg(\"volatility_30d\"), 4).alias(\"sector_avg_volatility\")\n",
    "        ) \\\n",
    "        .withColumn(\"sector\", lit(\"Renewable Energy\"))\n",
    "    \n",
    "    # Write gold tables\n",
    "    daily_metrics.write.format(\"delta\").mode(\"overwrite\") \\\n",
    "        .partitionBy(\"symbol\") \\\n",
    "        .save(gold_daily_path)\n",
    "    \n",
    "    monthly_summary.write.format(\"delta\").mode(\"overwrite\") \\\n",
    "        .partitionBy(\"symbol\", \"year\") \\\n",
    "        .save(gold_monthly_path)\n",
    "    \n",
    "    # Save sector metrics to a separate path\n",
    "    sector_path = gold_daily_path + \"_sector\"\n",
    "    daily_sector_metrics.write.format(\"delta\").mode(\"overwrite\") \\\n",
    "        .save(sector_path)\n",
    "    \n",
    "    print(f\"Gold layer created with {daily_metrics.count()} daily records and {monthly_summary.count()} monthly records\")\n",
    "    print(f\"Sector metrics created with {daily_sector_metrics.count()} records\")\n",
    "    \n",
    "    return daily_metrics, monthly_summary, daily_sector_metrics\n"
   ]
  },
  {
   "cell_type": "code",
   "execution_count": null,
   "metadata": {
    "vscode": {
     "languageId": "plaintext"
    }
   },
   "outputs": [],
   "source": [
    "# Execute gold layer creation\n",
    "daily_metrics, monthly_summary, sector_metrics = create_gold_layer()\n"
   ]
  }
 ],
 "metadata": {
  "language_info": {
   "name": "python"
  }
 },
 "nbformat": 4,
 "nbformat_minor": 2
}
