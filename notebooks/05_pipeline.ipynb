{
 "cells": [
  {
   "cell_type": "code",
   "execution_count": null,
   "metadata": {
    "vscode": {
     "languageId": "plaintext"
    }
   },
   "outputs": [],
   "source": [
    "import json\n",
    "from datetime import datetime"
   ]
  },
  {
   "cell_type": "code",
   "execution_count": null,
   "metadata": {
    "vscode": {
     "languageId": "plaintext"
    }
   },
   "outputs": [],
   "source": [
    "# Load configuration\n",
    "def load_config():\n",
    "    \"\"\"Load configuration from config.json\"\"\"\n",
    "    config_path = \"/dbfs/FileStore/configs/config.json\"\n",
    "    with open(config_path, 'r') as f:\n",
    "        return json.load(f)\n",
    "\n",
    "config = load_config()"
   ]
  },
  {
   "cell_type": "code",
   "execution_count": null,
   "metadata": {
    "vscode": {
     "languageId": "plaintext"
    }
   },
   "outputs": [],
   "source": [
    "\n",
    "def run_pipeline():\n",
    "    \"\"\"Orchestrate the entire pipeline\"\"\"\n",
    "    start_time = datetime.now()\n",
    "    print(f\"Pipeline started at: {start_time}\")\n",
    "    \n",
    "    try:\n",
    "        # Step 1: Ingest data to bronze layer\n",
    "        print(\"\\n== STEP 1: Bronze Layer - Data Ingestion ==\")\n",
    "        bronze_result = dbutils.notebook.run(\"01_bronze_layer\", timeout_seconds=1800)\n",
    "        \n",
    "        # Step 2: Process data to silver layer\n",
    "        print(\"\\n== STEP 2: Silver Layer - Data Transformation ==\")\n",
    "        silver_result = dbutils.notebook.run(\"02_silver_layer\", timeout_seconds=1200)\n",
    "        \n",
    "        # Step 3: Create gold layer\n",
    "        print(\"\\n== STEP 3: Gold Layer - Analytics Views ==\")\n",
    "        gold_result = dbutils.notebook.run(\"03_gold_layer\", timeout_seconds=1200)\n",
    "        \n",
    "        # Calculate execution time\n",
    "        end_time = datetime.now()\n",
    "        duration = (end_time - start_time).total_seconds() / 60\n",
    "        \n",
    "        print(\"\\n== PIPELINE EXECUTION SUMMARY ==\")\n",
    "        print(f\"Pipeline completed successfully!\")\n",
    "        print(f\"Start time: {start_time}\")\n",
    "        print(f\"End time: {end_time}\")\n",
    "        print(f\"Duration: {duration:.2f} minutes\")\n",
    "        \n",
    "        # Display final data counts\n",
    "        print(\"\\n== DATA SUMMARY ==\")\n",
    "        # Read final data counts from each layer\n",
    "        bronze_df = spark.read.format(\"delta\").load(config[\"data_storage\"][\"bronze_path\"])\n",
    "        silver_df = spark.read.format(\"delta\").load(config[\"data_storage\"][\"silver_path\"])\n",
    "        daily_df = spark.read.format(\"delta\").load(config[\"data_storage\"][\"gold_daily_path\"])\n",
    "        monthly_df = spark.read.format(\"delta\").load(config[\"data_storage\"][\"gold_monthly_path\"])\n",
    "        \n",
    "        print(f\"Bronze layer: {bronze_df.count()} records\")\n",
    "        print(f\"Silver layer: {silver_df.count()} records\")\n",
    "        print(f\"Gold daily metrics: {daily_df.count()} records\")\n",
    "        print(f\"Gold monthly metrics: {monthly_df.count()} records\")\n",
    "        \n",
    "        return {\n",
    "            \"status\": \"success\",\n",
    "            \"duration_minutes\": duration,\n",
    "            \"bronze_count\": bronze_df.count(),\n",
    "            \"silver_count\": silver_df.count(),\n",
    "            \"gold_daily_count\": daily_df.count(),\n",
    "            \"gold_monthly_count\": monthly_df.count()\n",
    "        }\n",
    "        \n",
    "    except Exception as e:\n",
    "        print(f\"Pipeline failed with error: {str(e)}\")\n",
    "        raise e\n"
   ]
  },
  {
   "cell_type": "code",
   "execution_count": null,
   "metadata": {
    "vscode": {
     "languageId": "plaintext"
    }
   },
   "outputs": [],
   "source": [
    "# Run the pipeline\n",
    "pipeline_results = run_pipeline()"
   ]
  },
  {
   "cell_type": "code",
   "execution_count": null,
   "metadata": {
    "vscode": {
     "languageId": "plaintext"
    }
   },
   "outputs": [],
   "source": [
    "# Create a visualization of the pipeline results\n",
    "if \"status\" in pipeline_results and pipeline_results[\"status\"] == \"success\":\n",
    "    # Create a DataFrame with layer information\n",
    "    layer_data = [\n",
    "        (\"Bronze Layer\", pipeline_results[\"bronze_count\"]),\n",
    "        (\"Silver Layer\", pipeline_results[\"silver_count\"]),\n",
    "        (\"Gold Daily\", pipeline_results[\"gold_daily_count\"]),\n",
    "        (\"Gold Monthly\", pipeline_results[\"gold_monthly_count\"])\n",
    "    ]\n",
    "    \n",
    "    summary_df = spark.createDataFrame(layer_data, [\"Layer\", \"Record Count\"])\n",
    "    display(summary_df)"
   ]
  }
 ],
 "metadata": {
  "language_info": {
   "name": "python"
  }
 },
 "nbformat": 4,
 "nbformat_minor": 2
}
