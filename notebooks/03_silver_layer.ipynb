{
 "cells": [
  {
   "cell_type": "code",
   "execution_count": null,
   "metadata": {
    "vscode": {
     "languageId": "plaintext"
    }
   },
   "outputs": [],
   "source": [
    "import json\n",
    "from pyspark.sql.functions import *\n",
    "from pyspark.sql.types import *\n",
    "from pyspark.sql.window import Window\n",
    "\n",
    "# Load configuration\n",
    "def load_config():\n",
    "    \"\"\"Load configuration from config.json\"\"\"\n",
    "    config_path = \"/dbfs/FileStore/configs/config.json\"\n",
    "    with open(config_path, 'r') as f:\n",
    "        return json.load(f)\n",
    "\n",
    "config = load_config()\n",
    "bronze_path = config[\"data_storage\"][\"bronze_path\"]\n",
    "silver_path = config[\"data_storage\"][\"silver_path\"]\n",
    " \n",
    "print(f\"Bronze data path: {bronze_path}\")\n",
    "print(f\"Silver data path: {silver_path}\")"
   ]
  },
  {
   "cell_type": "code",
   "execution_count": null,
   "metadata": {
    "vscode": {
     "languageId": "plaintext"
    }
   },
   "outputs": [],
   "source": [
    "# Load Bronze Data and Perform Quality Checks\n",
    "\n",
    "# Read from bronze layer\n",
    "bronze_df = spark.read.format(\"delta\").load(bronze_path)\n",
    "\n",
    "# Display sample data\n",
    "print(\"Sample bronze data:\")\n",
    "display(bronze_df.limit(5))\n",
    "\n",
    "# Data quality check - count nulls\n",
    "null_counts = bronze_df.select([count(when(col(c).isNull(), c)).alias(c) for c in bronze_df.columns])\n",
    "print(\"Null count by column:\")\n",
    "display(null_counts)\n",
    "\n",
    "# Count records by symbol\n",
    "symbol_counts = bronze_df.groupBy(\"symbol\").count().orderBy(\"symbol\")\n",
    "print(\"Record count by symbol:\")\n",
    "display(symbol_counts)\n"
   ]
  },
  {
   "cell_type": "code",
   "execution_count": null,
   "metadata": {
    "vscode": {
     "languageId": "plaintext"
    }
   },
   "outputs": [],
   "source": [
    "\n",
    "# Basic Transformations - Add Time Features and Price Metrics\n",
    "\n",
    "# COMMAND ----------\n",
    "# Add basic time and price change columns\n",
    "silver_df = bronze_df \\\n",
    "    .withColumn(\"year\", year(\"date\")) \\\n",
    "    .withColumn(\"month\", month(\"date\")) \\\n",
    "    .withColumn(\"day_of_month\", dayofmonth(\"date\")) \\\n",
    "    .withColumn(\"day_of_week\", dayofweek(\"date\")) \\\n",
    "    .withColumn(\"price_change\", col(\"close\") - col(\"open\")) \\\n",
    "    .withColumn(\"price_change_pct\", round((col(\"close\") - col(\"open\")) / col(\"open\") * 100, 2)) \\\n",
    "    .withColumn(\"daily_range\", col(\"high\") - col(\"low\")) \\\n",
    "    .withColumn(\"processing_date\", current_timestamp())\n",
    "\n",
    "# Remove any rows with null values in critical columns\n",
    "silver_df = silver_df.dropna(subset=[\"open\", \"close\", \"high\", \"low\"])\n",
    "\n",
    "# Preview basic transformations\n",
    "print(\"Preview basic transformations:\")\n",
    "display(silver_df.select(\"symbol\", \"date\", \"close\", \"year\", \"month\", \"day_of_week\", \"price_change\", \"price_change_pct\").limit(5))\n"
   ]
  },
  {
   "cell_type": "code",
   "execution_count": null,
   "metadata": {
    "vscode": {
     "languageId": "plaintext"
    }
   },
   "outputs": [],
   "source": [
    "# Add 10-day moving average\n",
    "windowSpec10 = Window.partitionBy(\"symbol\").orderBy(\"date\").rowsBetween(-9, 0)\n",
    "silver_df = silver_df.withColumn(\"ma10\", avg(\"close\").over(windowSpec10))\n",
    "\n",
    "# Add 30-day moving average\n",
    "windowSpec30 = Window.partitionBy(\"symbol\").orderBy(\"date\").rowsBetween(-29, 0)\n",
    "silver_df = silver_df.withColumn(\"ma30\", avg(\"close\").over(windowSpec30))\n",
    "\n",
    "# Calculate price volatility (standard deviation over 30 days)\n",
    "silver_df = silver_df.withColumn(\"volatility_30d\", stddev(\"close\").over(windowSpec30))\n",
    "\n",
    "# Add relative strength (ratio of current price to 30-day moving average)\n",
    "silver_df = silver_df.withColumn(\"rel_strength\", round(col(\"close\") / col(\"ma30\"), 4))\n",
    "\n",
    "# Preview technical indicators\n",
    "print(\"Preview technical indicators:\")\n",
    "display(silver_df.select(\"symbol\", \"date\", \"close\", \"ma10\", \"ma30\", \"volatility_30d\", \"rel_strength\").limit(5))\n"
   ]
  },
  {
   "cell_type": "code",
   "execution_count": null,
   "metadata": {
    "vscode": {
     "languageId": "plaintext"
    }
   },
   "outputs": [],
   "source": [
    "# Write to silver layer\n",
    "silver_df.write.format(\"delta\").mode(\"overwrite\").partitionBy(\"symbol\", \"year\") \\\n",
    "    .save(silver_path)\n",
    "\n",
    "print(f\"Silver layer created with {silver_df.count()} records\")"
   ]
  },
  {
   "cell_type": "code",
   "execution_count": null,
   "metadata": {
    "vscode": {
     "languageId": "plaintext"
    }
   },
   "outputs": [],
   "source": [
    "# Select one symbol for detailed analysis\n",
    "example_symbol = config[\"stock_symbols\"][0]  # First symbol from config\n",
    "example_df = silver_df.filter(col(\"symbol\") == example_symbol) \\\n",
    "              .orderBy(col(\"date\").desc()) \\\n",
    "              .select(\"symbol\", \"date\", \"close\", \"ma10\", \"ma30\", \"price_change_pct\", \"volatility_30d\", \"rel_strength\")\n",
    "\n",
    "print(f\"Example transformations for {example_symbol}:\")\n",
    "display(example_df.limit(30))\n",
    "\n",
    "# Calculate additional metrics for this symbol\n",
    "avg_volatility = example_df.select(avg(\"volatility_30d\")).first()[0]\n",
    "max_daily_change = example_df.select(max(abs(\"price_change_pct\"))).first()[0]\n",
    "\n",
    "print(f\"Average 30-day volatility for {example_symbol}: {avg_volatility:.4f}\")\n",
    "print(f\"Maximum daily price change % for {example_symbol}: {max_daily_change:.2f}%\")"
   ]
  }
 ],
 "metadata": {
  "language_info": {
   "name": "python"
  }
 },
 "nbformat": 4,
 "nbformat_minor": 2
}
