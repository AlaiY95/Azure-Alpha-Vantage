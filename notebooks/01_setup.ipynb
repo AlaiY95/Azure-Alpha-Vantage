{
 "cells": [
  {
   "cell_type": "code",
   "execution_count": null,
   "metadata": {
    "vscode": {
     "languageId": "plaintext"
    }
   },
   "outputs": [],
   "source": [
    "# Check the root level of DBFS\n",
    "print(\"Contents of DBFS root:\")\n",
    "display(dbutils.fs.ls(\"dbfs:/\"))\n",
    "\n",
    "# Check if FileStore exists\n",
    "print(\"\\nChecking if FileStore exists:\")\n",
    "try:\n",
    "    display(dbutils.fs.ls(\"dbfs:/FileStore\"))\n",
    "    print(\"FileStore folder exists\")\n",
    "except Exception as e:\n",
    "    print(f\"Error: {e}\")\n",
    "    print(\"FileStore folder may not exist\")\n",
    "\n",
    "\n",
    "# List contents of FileStore\n",
    "display(dbutils.fs.ls(\"dbfs:/FileStore/\"))"
   ]
  },
  {
   "cell_type": "code",
   "execution_count": null,
   "metadata": {
    "vscode": {
     "languageId": "plaintext"
    }
   },
   "outputs": [],
   "source": [
    "# First, let's check if the directory exists\n",
    "display(dbutils.fs.ls(\"dbfs:/FileStore/\"))\n",
    "\n",
    "# Now try to create the configs directory again\n",
    "dbutils.fs.mkdirs(\"dbfs:/FileStore/configs/\")\n",
    "\n",
    "# Check if the directory was created\n",
    "display(dbutils.fs.ls(\"dbfs:/FileStore/\"))\n",
    "\n",
    "# Now let's create the config file\n",
    "config_content = \"\"\"{\n",
    "  \"stock_symbols\": [\n",
    "    \"NEE\",\n",
    "    \"ENPH\",\n",
    "    \"SEDG\",\n",
    "    \"FSLR\",\n",
    "    \"NOVA\"\n",
    "  ],\n",
    "  \"data_storage\": {\n",
    "    \"bronze_path\": \"/mnt/datalake/bronze/stock_data\",\n",
    "    \"silver_path\": \"/mnt/datalake/silver/stock_data\",\n",
    "    \"gold_daily_path\": \"/mnt/datalake/gold/daily_metrics\",\n",
    "    \"gold_monthly_path\": \"/mnt/datalake/gold/monthly_summary\"\n",
    "  },\n",
    "  \"pipeline_params\": {\n",
    "    \"lookback_days\": 365,\n",
    "    \"refresh_frequency\": \"daily\"\n",
    "  }\n",
    "}\"\"\"\n",
    "\n",
    "# Write the content to the file\n",
    "dbutils.fs.put(\"dbfs:/FileStore/configs/config.json\", config_content, True)\n",
    "\n",
    "# Verify file exists\n",
    "try:\n",
    "    files = dbutils.fs.ls(\"dbfs:/FileStore/configs/\")\n",
    "    print(\"Files in configs directory:\")\n",
    "    display(files)\n",
    "except Exception as e:\n",
    "    print(f\"Error listing directory: {e}\")"
   ]
  },
  {
   "cell_type": "code",
   "execution_count": null,
   "metadata": {
    "vscode": {
     "languageId": "plaintext"
    }
   },
   "outputs": [],
   "source": [
    "# # 1. Check if the file exists\n",
    "# file_exists = dbutils.fs.ls(\"dbfs:/FileStore/configs/\")\n",
    "# print(\"Files in the configs directory:\")\n",
    "# display(file_exists)\n",
    "\n",
    "# # 2. Read the file contents to verify\n",
    "# file_content = dbutils.fs.head(\"dbfs:/FileStore/configs/config.json\")\n",
    "# print(\"\\nContents of config.json:\")\n",
    "# print(file_content)\n",
    "\n",
    "# 3. Try to load it as JSON to verify it's valid\n",
    "import json\n",
    "try:\n",
    "    config = json.loads(file_content)\n",
    "    print(\"\\nSuccessfully loaded as JSON!\")\n",
    "    print(f\"Found {len(config['stock_symbols'])} stock symbols: {', '.join(config['stock_symbols'])}\")\n",
    "    print(f\"Bronze path: {config['data_storage']['bronze_path']}\")\n",
    "except Exception as e:\n",
    "    print(f\"Error loading JSON: {str(e)}\")"
   ]
  }
 ],
 "metadata": {
  "language_info": {
   "name": "python"
  }
 },
 "nbformat": 4,
 "nbformat_minor": 2
}
